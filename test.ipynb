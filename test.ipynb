{
 "cells": [
  {
   "cell_type": "code",
   "execution_count": 11,
   "metadata": {},
   "outputs": [
    {
     "name": "stdout",
     "output_type": "stream",
     "text": [
      "pygame 2.5.2 (SDL 2.28.3, Python 3.10.13)\n",
      "Hello from the pygame community. https://www.pygame.org/contribute.html\n"
     ]
    }
   ],
   "source": [
    "import pygame\n",
    "import random\n",
    "import copy\n",
    "import pprint"
   ]
  },
  {
   "cell_type": "code",
   "execution_count": 12,
   "metadata": {},
   "outputs": [],
   "source": [
    "NUM_OF_CARDS_EACH_COLOUR = 13\n",
    "NUM_OF_COLOURS = 4\n",
    "ALL_COLOURS = (\"Red\",\"Blue\",\"Yellow\",\"Green\",\"Pink\")\n",
    "NOW_COLOURS = ALL_COLOURS[:NUM_OF_COLOURS]\n",
    "NUM_OF_WILDCARDS = 2\n",
    "NUM_OF_SAME_CARD = 2"
   ]
  },
  {
   "cell_type": "markdown",
   "metadata": {},
   "source": [
    "Card"
   ]
  },
  {
   "cell_type": "code",
   "execution_count": 13,
   "metadata": {},
   "outputs": [],
   "source": [
    "class Card:\n",
    "    def __init__(self, colour, number):\n",
    "        self.colour = colour\n",
    "        self.number = number\n",
    "\n",
    "    def __repr__(self):\n",
    "        return f\"Card({self.colour} {self.number})\"\n",
    "    \n",
    "    @classmethod\n",
    "    @property\n",
    "    def wildcard(cls):\n",
    "        cls.wildcard = Card(\"Joker\", 30)"
   ]
  },
  {
   "cell_type": "markdown",
   "metadata": {},
   "source": [
    "Deck\n"
   ]
  },
  {
   "cell_type": "code",
   "execution_count": 14,
   "metadata": {},
   "outputs": [],
   "source": [
    "class Deck:\n",
    "    def __init__(self):\n",
    "        cards_pool = NUM_OF_SAME_CARD * [Card(colour, i) for colour in NOW_COLOURS for i in range(1, NUM_OF_CARDS_EACH_COLOUR+1)]\n",
    "        cards_pool += NUM_OF_WILDCARDS * [Card.wildcard]\n",
    "        random.shuffle(cards_pool)\n",
    "        self.cards_pool = cards_pool"
   ]
  },
  {
   "cell_type": "markdown",
   "metadata": {},
   "source": [
    "Player"
   ]
  },
  {
   "cell_type": "code",
   "execution_count": 15,
   "metadata": {},
   "outputs": [],
   "source": [
    "class Player:\n",
    "    def __init__(self, name) -> None:\n",
    "        self.name = name\n",
    "        self.hands = []\n",
    "    \n",
    "    def draw_cards(self, deck):\n",
    "        for _ in range(14):\n",
    "            card = deck.cards_pool.pop()\n",
    "            self.hands.append(card)\n",
    "    \n",
    "    def draw_one_card(self, deck):\n",
    "        card = deck.cards_pool.pop()\n",
    "        self.hands.append(card)\n",
    "        \n",
    "    def __str__(self) -> str:\n",
    "        return self.name\n",
    "    \n",
    "    def __repr__(self):\n",
    "        return self.__str__()\n",
    "    "
   ]
  },
  {
   "cell_type": "markdown",
   "metadata": {},
   "source": [
    "Board"
   ]
  },
  {
   "cell_type": "code",
   "execution_count": 16,
   "metadata": {},
   "outputs": [],
   "source": [
    "class Board:\n",
    "    def __init__(self) -> None:\n",
    "        self.board = []\n",
    "    \n",
    "    def __str__(self) -> str:\n",
    "        return str(self.board)\n",
    "    \n",
    "    def __repr__(self) -> str:\n",
    "        return self.__str__()\n",
    "    \n",
    "    def add_one_card_set(self, card_set):\n",
    "        self.board.append(card_set)\n",
    "        \n",
    "    def add_all_card_sets(self, card_sets):\n",
    "        self.board.extend(card_sets)\n",
    "        \n",
    "    def add_card_set_with_num(self, card_set, num):\n",
    "        if num < len(self.board):\n",
    "            self.board[num].extend(card_set)\n",
    "            return True\n",
    "        elif num == len(self.board):\n",
    "            self.add_one_card_set(card_set)\n",
    "            return True\n",
    "        else:\n",
    "            return False  "
   ]
  },
  {
   "cell_type": "markdown",
   "metadata": {},
   "source": [
    "Game"
   ]
  },
  {
   "cell_type": "code",
   "execution_count": 17,
   "metadata": {},
   "outputs": [],
   "source": [
    "import itertools\n",
    "\n",
    "class Game:\n",
    "    def __init__(self) -> None:\n",
    "        self.deck = Deck()\n",
    "        self.board = Board()\n",
    "        \n",
    "    def is_group(self, cards):\n",
    "        if len(cards) < 3:\n",
    "            return False\n",
    "        \n",
    "        regular_cards = [card for card in cards if card.number != 30]     \n",
    "         \n",
    "        if len(set([card.number for card in regular_cards])) != 1:\n",
    "            return False\n",
    "        else:\n",
    "            return len(set([card.colour for card in regular_cards])) == len(regular_cards)\n",
    "        \n",
    "    def is_run(self, cards):\n",
    "        if len(cards) < 3:\n",
    "            return False\n",
    "\n",
    "        regular_cards = [card for card in cards if card.number != 30] \n",
    "        wild_cards_count = len([card for card in cards if card.number == 30]) \n",
    "\n",
    "        if len(set([card.colour for card in regular_cards])) != 1:\n",
    "            return False\n",
    "        else:\n",
    "            cards_number = [card.number for card in regular_cards]\n",
    "            cards_number.sort()\n",
    "            for i in range(1, len(cards_number)):\n",
    "                if cards_number[i] != cards_number[i-1] + 1:\n",
    "                    if wild_cards_count == 0:\n",
    "                        return False\n",
    "                    wild_cards_count -= 1\n",
    "            return True \n",
    "    \n",
    "    def is_valid(self, cards):\n",
    "        return self.is_group(cards) or self.is_run(cards)              \n",
    "    \n",
    "    def is_first_move_valid(self, cards):\n",
    "        if self.is_valid(cards):                \n",
    "            total_points = sum(card.number for card in cards)\n",
    "            if total_points >= 30:\n",
    "                return True\n",
    "        else:\n",
    "            return False\n",
    "        \n",
    "    def find_combinations(self, cards):\n",
    "        combinations = []\n",
    "        cards.sort(key=lambda card: card.number)\n",
    "        print(cards)\n",
    "        for i in range(len(cards)):\n",
    "            for j in range(i, len(cards)):\n",
    "                cards_temp = cards[i:j]\n",
    "                cards_left = cards[0:i] + cards[j:]\n",
    "                if self.is_valid(cards_temp) and self.is_valid(cards_left):\n",
    "                    combinations.append(cards_temp)\n",
    "                    combinations.append(cards_left)\n",
    "                    \n",
    "                    # if self.find_combinations(cards_left):\n",
    "                    #     combinations.append(cards_left)\n",
    "        return combinations        \n",
    "    \n",
    "    \n",
    "    def check_combinations(self, tiles):\n",
    "        tiles.sort(key=lambda tile: (tile.number, tile.colour))\n",
    "        print(tiles)\n",
    "        for i in range(1, len(tiles) + 1):\n",
    "            first_group = tiles[:i]\n",
    "            if self.is_valid(first_group):\n",
    "                remaining_tiles = tiles[i:]\n",
    "                if not remaining_tiles or self.check_combinations(remaining_tiles):\n",
    "                    return 1 + (self.check_combinations(remaining_tiles) if remaining_tiles else 0)\n",
    "        return 0\n",
    "    \n",
    "    \n",
    "    def check_all_combinations(self, tiles, combination=[], remaining=None):\n",
    "        if remaining is None:\n",
    "            remaining = tiles.copy()\n",
    "\n",
    "        if not remaining:\n",
    "            return all(self.is_valid(group) for group in combination)\n",
    "\n",
    "        for i in range(len(remaining)):\n",
    "            next_tile = remaining.pop(0)\n",
    "            for group in combination:\n",
    "                group.append(next_tile)\n",
    "                if self.check_all_combinations(tiles, combination, remaining):\n",
    "                    return True\n",
    "                group.pop()\n",
    "\n",
    "            combination.append([next_tile])\n",
    "            if self.check_all_combinations(tiles, combination, remaining):\n",
    "                return True\n",
    "            combination.pop()\n",
    "            remaining.append(next_tile)\n",
    "        return False\n",
    "    \n",
    "    \n",
    "    \n",
    "    def find_all_combinations(self, tiles):\n",
    "        valid_combinations = set()\n",
    "        self._find_combinations_recursive(tiles, [], tiles.copy(), valid_combinations)\n",
    "        \n",
    "        return [list(map(self._convert_to_tile, comb)) for comb in valid_combinations]\n",
    "\n",
    "    def _convert_from_hashable(self, hashable_combination):\n",
    "        return [[Card(color, int(number)) for number, color in (tile_str.split() for tile_str in group)] for group in hashable_combination]\n",
    "\n",
    "    def _convert_to_tile(self, group):\n",
    "        return [Card(color, int(number)) for number, color in (tile_str.split() for tile_str in group)]\n",
    "    \n",
    "    def _convert_combination_to_hashable(self, combination):\n",
    "        return tuple(tuple(f\"{tile.number} {tile.colour}\" for tile in sorted(group, key=lambda t: (t.number, t.colour))) for group in combination)\n",
    "\n",
    "    def _find_combinations_recursive(self, tiles, current_combination, remaining, valid_combinations):\n",
    "        if not remaining:\n",
    "            if all(self.is_valid(group) for group in current_combination):\n",
    "                valid_combinations.add(self._convert_combination_to_hashable(current_combination))\n",
    "            return\n",
    "\n",
    "        for i in range(len(remaining)):\n",
    "            next_tile = remaining.pop(0)\n",
    "            for group in current_combination:\n",
    "                group.append(next_tile)\n",
    "                self._find_combinations_recursive(tiles, current_combination, remaining, valid_combinations)\n",
    "                group.pop()\n",
    "\n",
    "            new_combination = current_combination + [[next_tile]]\n",
    "            self._find_combinations_recursive(tiles, new_combination, remaining, valid_combinations)\n",
    "\n",
    "            remaining.append(next_tile)\n",
    "            \n",
    "    def first_move(self, player, card_sets):\n",
    "        if all(card in player.hands for card_set in card_sets for card in card_set):\n",
    "            if all(self.is_first_move_valid(card_set) for card_set in card_sets):\n",
    "                player.hands = [card for card in player.hands if card not in card_set for card_set in card_sets]\n",
    "                self.board.add_all_card_sets(card_sets)\n",
    "                print('move success')\n",
    "            else: \n",
    "                print(\"move failed\")\n",
    "        else:\n",
    "            print(\"move failed\")\n",
    "            \n",
    "            \n",
    "    # card sets, corresponding nums in board\n",
    "    def regular_move(self, player, card_sets, sets_nums_in_board):\n",
    "        if all(card in player.hands for card_set in card_sets for card in card_set) and len(card_sets) == len(sets_nums_in_board):\n",
    "            if all(self.is_valid(self.board.board[i].extend(card_sets[i])) for i in range(len(card_sets))):\n",
    "                for i in range(len(card_sets)):\n",
    "                    self.board.add_card_set_with_num(card_sets[i], sets_nums_in_board[i])\n",
    "                "
   ]
  },
  {
   "cell_type": "markdown",
   "metadata": {},
   "source": [
    "Test"
   ]
  },
  {
   "cell_type": "code",
   "execution_count": 18,
   "metadata": {},
   "outputs": [
    {
     "name": "stdout",
     "output_type": "stream",
     "text": [
      "True\n",
      "False\n",
      "False\n",
      "True\n",
      "True\n",
      "cards_3 is run: True\n",
      "all the valid combinations:\n",
      "[[Card(g 11), Card(g 12), Card(g 13)], [Card(b 11), Card(g 11), Card(red 11)]]\n",
      "[[Card(b 11), Card(g 11), Card(red 11)], [Card(g 11), Card(g 12), Card(g 13)]]\n"
     ]
    }
   ],
   "source": [
    "cards_1 = [Card('red',11), Card('g', 11), Card('b', 11)]\n",
    "cards_2 = [Card('red',11), Card('red', 12), Card('red', 13)]\n",
    "cards_3 = [Card('red',11), Card('red', 12), Card('Joker', 30)]\n",
    "game1 = Game()\n",
    "print(game1.is_group(cards_1))\n",
    "print(game1.is_group(cards_2))\n",
    "print(game1.is_run(cards_1))\n",
    "print(game1.is_run(cards_2))\n",
    "print(game1.is_first_move_valid(cards_3))\n",
    "print(f\"cards_3 is run: {game1.is_run(cards_3)}\")\n",
    "\n",
    "cards_4 = [ Card('red',11), Card('red', 12), Card('red', 13),\\\n",
    "            Card('red',11), Card('g', 11),   Card('b', 11), \\\n",
    "           ]\n",
    "cards_5 = [Card('red',11), Card('g', 11),   Card('b', 11), \\\n",
    "           Card('red',11), Card('red', 12), Card('red', 13), \\\n",
    "           Card('red',11), Card('red', 12), Card('red', 13)\n",
    "           ]\n",
    "cards_6 = [ Card('g',11), Card('g', 12), Card('g', 13),\n",
    "            Card('red',11), Card('g', 11),   Card('b', 11), \n",
    "           ]\n",
    "# print(game1.check_combinations(cards_6))\n",
    "# print(game1.find_all_combinations(cards_6))\n",
    "all_valid_combinations = game1.find_all_combinations(cards_6)\n",
    "print(\"all the valid combinations:\")\n",
    "for combination in all_valid_combinations:\n",
    "    print(combination)"
   ]
  },
  {
   "cell_type": "code",
   "execution_count": 53,
   "metadata": {},
   "outputs": [
    {
     "data": {
      "text/plain": [
       "[]"
      ]
     },
     "execution_count": 53,
     "metadata": {},
     "output_type": "execute_result"
    }
   ],
   "source": [
    "game1.board"
   ]
  },
  {
   "cell_type": "code",
   "execution_count": 56,
   "metadata": {},
   "outputs": [
    {
     "name": "stdout",
     "output_type": "stream",
     "text": [
      "106\n",
      "[Card(Blue 4), Card(Blue 2), Card(Green 13), Card(Blue 9), Card(Blue 2), Card(Blue 1), Card(Red 7), Card(Blue 3), Card(Yellow 2), Card(Green 2), Card(Green 12), Card(Yellow 6), Card(Blue 9), Card(Red 13), Card(Red 9), Card(Red 5), Card(Yellow 12), Card(Blue 7), Card(Yellow 9), Card(Green 8), Card(Red 2), Card(Green 6), Card(Green 13), Card(Green 6), Card(Green 4), Card(Yellow 5), Card(Yellow 13), Card(Yellow 9), Card(Red 5), Card(Yellow 10), Card(Yellow 12), Card(Joker 30), Card(Red 3), Card(Joker 30), Card(Red 3), Card(Blue 1), Card(Red 8), Card(Yellow 3), Card(Red 7), Card(Red 2), Card(Blue 5), Card(Blue 6), Card(Blue 4), Card(Red 6), Card(Red 4), Card(Blue 11), Card(Blue 8), Card(Blue 3), Card(Red 9), Card(Red 4), Card(Red 10), Card(Yellow 10), Card(Yellow 11), Card(Yellow 7), Card(Green 1), Card(Green 2), Card(Yellow 4), Card(Blue 13), Card(Yellow 4), Card(Blue 12), Card(Green 11), Card(Red 12), Card(Yellow 8), Card(Green 8), Card(Yellow 6), Card(Yellow 5), Card(Green 10), Card(Blue 10), Card(Blue 12), Card(Green 9), Card(Blue 10), Card(Green 3), Card(Red 10), Card(Yellow 13), Card(Red 8), Card(Red 6), Card(Red 11), Card(Green 4), Card(Yellow 2), Card(Blue 8), Card(Green 3), Card(Green 10), Card(Green 9), Card(Green 1), Card(Green 5), Card(Blue 5), Card(Green 11), Card(Green 7), Card(Red 1), Card(Yellow 7), Card(Yellow 1), Card(Red 11), Card(Red 12), Card(Green 5), Card(Blue 6), Card(Yellow 8), Card(Red 1), Card(Yellow 3), Card(Blue 13), Card(Green 7), Card(Blue 11), Card(Blue 7), Card(Yellow 11), Card(Green 12), Card(Yellow 1), Card(Red 13)]\n",
      "[player1, player2, player3, player4]\n",
      "player1 hands:[]\n",
      "player1 hands:[Card(Red 13), Card(Yellow 1), Card(Green 12), Card(Yellow 11), Card(Blue 7), Card(Blue 11), Card(Green 7), Card(Blue 13), Card(Yellow 3), Card(Red 1), Card(Yellow 8), Card(Blue 6), Card(Green 5), Card(Red 12)]\n",
      "player1 holds cards number: 14\n",
      "player2 hands:[]\n",
      "player2 hands:[Card(Red 11), Card(Yellow 1), Card(Yellow 7), Card(Red 1), Card(Green 7), Card(Green 11), Card(Blue 5), Card(Green 5), Card(Green 1), Card(Green 9), Card(Green 10), Card(Green 3), Card(Blue 8), Card(Yellow 2)]\n",
      "player2 holds cards number: 14\n",
      "player3 hands:[]\n",
      "player3 hands:[Card(Green 4), Card(Red 11), Card(Red 6), Card(Red 8), Card(Yellow 13), Card(Red 10), Card(Green 3), Card(Blue 10), Card(Green 9), Card(Blue 12), Card(Blue 10), Card(Green 10), Card(Yellow 5), Card(Yellow 6)]\n",
      "player3 holds cards number: 14\n",
      "player4 hands:[]\n",
      "player4 hands:[Card(Green 8), Card(Yellow 8), Card(Red 12), Card(Green 11), Card(Blue 12), Card(Yellow 4), Card(Blue 13), Card(Yellow 4), Card(Green 2), Card(Green 1), Card(Yellow 7), Card(Yellow 11), Card(Yellow 10), Card(Red 10)]\n",
      "player4 holds cards number: 14\n",
      "50\n"
     ]
    }
   ],
   "source": [
    "game = Game()\n",
    "\n",
    "deck1 = game.deck\n",
    "print(len(deck1.cards_pool))\n",
    "print(deck1.cards_pool)\n",
    "\n",
    "p1 = Player('player1')\n",
    "p2 = Player('player2')\n",
    "p3 = Player('player3')\n",
    "p4 = Player('player4')\n",
    "players = [p1, p2, p3, p4]\n",
    "print(players)      \n",
    "for player in players:\n",
    "    print(f\"{player} hands:{player.hands}\")\n",
    "    player.draw_cards(deck1)\n",
    "    print(f\"{player} hands:{player.hands}\")\n",
    "    print(f\"{player} holds cards number: {len(player.hands)}\")\n",
    "    \n",
    "print(len(deck1.cards_pool))"
   ]
  },
  {
   "cell_type": "code",
   "execution_count": 57,
   "metadata": {},
   "outputs": [
    {
     "data": {
      "text/plain": [
       "[Card(Red 1),\n",
       " Card(Yellow 1),\n",
       " Card(Yellow 3),\n",
       " Card(Green 5),\n",
       " Card(Blue 6),\n",
       " Card(Blue 7),\n",
       " Card(Green 7),\n",
       " Card(Yellow 8),\n",
       " Card(Blue 11),\n",
       " Card(Yellow 11),\n",
       " Card(Green 12),\n",
       " Card(Red 12),\n",
       " Card(Blue 13),\n",
       " Card(Red 13)]"
      ]
     },
     "execution_count": 57,
     "metadata": {},
     "output_type": "execute_result"
    }
   ],
   "source": [
    "p1.hands.sort(key=lambda tile: (tile.number, tile.colour))\n",
    "p1.hands"
   ]
  },
  {
   "cell_type": "code",
   "execution_count": 46,
   "metadata": {},
   "outputs": [
    {
     "name": "stdout",
     "output_type": "stream",
     "text": [
      "move success\n"
     ]
    },
    {
     "data": {
      "text/plain": [
       "[[Card(Yellow 10), Card(Yellow 11), Card(Joker 30)]]"
      ]
     },
     "execution_count": 46,
     "metadata": {},
     "output_type": "execute_result"
    }
   ],
   "source": [
    "game = Game()\n",
    "game.first_move(p1, [[p1.hands[9], p1.hands[11], p1.hands[13]], ])\n",
    "game.board"
   ]
  },
  {
   "cell_type": "code",
   "execution_count": 47,
   "metadata": {},
   "outputs": [
    {
     "data": {
      "text/plain": [
       "[Card(Green 1),\n",
       " Card(Blue 2),\n",
       " Card(Green 2),\n",
       " Card(Red 3),\n",
       " Card(Green 5),\n",
       " Card(Blue 6),\n",
       " Card(Red 7),\n",
       " Card(Green 9),\n",
       " Card(Red 10),\n",
       " Card(Green 11),\n",
       " Card(Red 13)]"
      ]
     },
     "execution_count": 47,
     "metadata": {},
     "output_type": "execute_result"
    }
   ],
   "source": [
    "p1.hands"
   ]
  },
  {
   "cell_type": "code",
   "execution_count": 48,
   "metadata": {},
   "outputs": [
    {
     "data": {
      "text/plain": [
       "[[Card(Yellow 10), Card(Yellow 11), Card(Joker 30)]]"
      ]
     },
     "execution_count": 48,
     "metadata": {},
     "output_type": "execute_result"
    }
   ],
   "source": [
    "game.board"
   ]
  },
  {
   "cell_type": "code",
   "execution_count": null,
   "metadata": {},
   "outputs": [],
   "source": []
  }
 ],
 "metadata": {
  "kernelspec": {
   "display_name": "MLE",
   "language": "python",
   "name": "python3"
  },
  "language_info": {
   "codemirror_mode": {
    "name": "ipython",
    "version": 3
   },
   "file_extension": ".py",
   "mimetype": "text/x-python",
   "name": "python",
   "nbconvert_exporter": "python",
   "pygments_lexer": "ipython3",
   "version": "3.10.13"
  }
 },
 "nbformat": 4,
 "nbformat_minor": 2
}
