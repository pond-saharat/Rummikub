{
 "cells": [
  {
   "cell_type": "code",
   "execution_count": 11,
   "metadata": {},
   "outputs": [
    {
     "name": "stdout",
     "output_type": "stream",
     "text": [
      "pygame 2.5.2 (SDL 2.28.3, Python 3.10.13)\n",
      "Hello from the pygame community. https://www.pygame.org/contribute.html\n"
     ]
    }
   ],
   "source": [
    "import pygame\n",
    "import random\n",
    "import copy\n",
    "import pprint"
   ]
  },
  {
   "cell_type": "code",
   "execution_count": 12,
   "metadata": {},
   "outputs": [],
   "source": []
  },
  {
   "cell_type": "markdown",
   "metadata": {},
   "source": [
    "Card"
   ]
  },
  {
   "cell_type": "code",
   "execution_count": 13,
   "metadata": {},
   "outputs": [],
   "source": []
  },
  {
   "cell_type": "markdown",
   "metadata": {},
   "source": [
    "Deck\n"
   ]
  },
  {
   "cell_type": "code",
   "execution_count": 14,
   "metadata": {},
   "outputs": [],
   "source": []
  },
  {
   "cell_type": "markdown",
   "metadata": {},
   "source": [
    "Player"
   ]
  },
  {
   "cell_type": "code",
   "execution_count": 15,
   "metadata": {},
   "outputs": [],
   "source": []
  },
  {
   "cell_type": "markdown",
   "metadata": {},
   "source": [
    "Board"
   ]
  },
  {
   "cell_type": "code",
   "execution_count": 16,
   "metadata": {},
   "outputs": [],
   "source": []
  },
  {
   "cell_type": "markdown",
   "metadata": {},
   "source": [
    "Game"
   ]
  },
  {
   "cell_type": "code",
   "execution_count": 17,
   "metadata": {},
   "outputs": [],
   "source": []
  },
  {
   "cell_type": "markdown",
   "metadata": {},
   "source": [
    "Test"
   ]
  },
  {
   "cell_type": "code",
   "execution_count": 18,
   "metadata": {},
   "outputs": [
    {
     "name": "stdout",
     "output_type": "stream",
     "text": [
      "True\n",
      "False\n",
      "False\n",
      "True\n",
      "True\n",
      "cards_3 is run: True\n",
      "all the valid combinations:\n",
      "[[Card(g 11), Card(g 12), Card(g 13)], [Card(b 11), Card(g 11), Card(red 11)]]\n",
      "[[Card(b 11), Card(g 11), Card(red 11)], [Card(g 11), Card(g 12), Card(g 13)]]\n"
     ]
    }
   ],
   "source": [
    "cards_1 = [Card('red',11), Card('g', 11), Card('b', 11)]\n",
    "cards_2 = [Card('red',11), Card('red', 12), Card('red', 13)]\n",
    "cards_3 = [Card('red',11), Card('red', 12), Card('Joker', 30)]\n",
    "game1 = Game()\n",
    "print(game1.is_group(cards_1))\n",
    "print(game1.is_group(cards_2))\n",
    "print(game1.is_run(cards_1))\n",
    "print(game1.is_run(cards_2))\n",
    "print(game1.is_first_move_valid(cards_3))\n",
    "print(f\"cards_3 is run: {game1.is_run(cards_3)}\")\n",
    "\n",
    "cards_4 = [ Card('red',11), Card('red', 12), Card('red', 13),\\\n",
    "            Card('red',11), Card('g', 11),   Card('b', 11), \\\n",
    "           ]\n",
    "cards_5 = [Card('red',11), Card('g', 11),   Card('b', 11), \\\n",
    "           Card('red',11), Card('red', 12), Card('red', 13), \\\n",
    "           Card('red',11), Card('red', 12), Card('red', 13)\n",
    "           ]\n",
    "cards_6 = [ Card('g',11), Card('g', 12), Card('g', 13),\n",
    "            Card('red',11), Card('g', 11),   Card('b', 11), \n",
    "           ]\n",
    "# print(game1.check_combinations(cards_6))\n",
    "# print(game1.find_all_combinations(cards_6))\n",
    "all_valid_combinations = game1.find_all_combinations(cards_6)\n",
    "print(\"all the valid combinations:\")\n",
    "for combination in all_valid_combinations:\n",
    "    print(combination)"
   ]
  },
  {
   "cell_type": "code",
   "execution_count": 53,
   "metadata": {},
   "outputs": [
    {
     "data": {
      "text/plain": [
       "[]"
      ]
     },
     "execution_count": 53,
     "metadata": {},
     "output_type": "execute_result"
    }
   ],
   "source": [
    "game1.board"
   ]
  },
  {
   "cell_type": "code",
   "execution_count": 56,
   "metadata": {},
   "outputs": [
    {
     "name": "stdout",
     "output_type": "stream",
     "text": [
      "106\n",
      "[Card(Blue 4), Card(Blue 2), Card(Green 13), Card(Blue 9), Card(Blue 2), Card(Blue 1), Card(Red 7), Card(Blue 3), Card(Yellow 2), Card(Green 2), Card(Green 12), Card(Yellow 6), Card(Blue 9), Card(Red 13), Card(Red 9), Card(Red 5), Card(Yellow 12), Card(Blue 7), Card(Yellow 9), Card(Green 8), Card(Red 2), Card(Green 6), Card(Green 13), Card(Green 6), Card(Green 4), Card(Yellow 5), Card(Yellow 13), Card(Yellow 9), Card(Red 5), Card(Yellow 10), Card(Yellow 12), Card(Joker 30), Card(Red 3), Card(Joker 30), Card(Red 3), Card(Blue 1), Card(Red 8), Card(Yellow 3), Card(Red 7), Card(Red 2), Card(Blue 5), Card(Blue 6), Card(Blue 4), Card(Red 6), Card(Red 4), Card(Blue 11), Card(Blue 8), Card(Blue 3), Card(Red 9), Card(Red 4), Card(Red 10), Card(Yellow 10), Card(Yellow 11), Card(Yellow 7), Card(Green 1), Card(Green 2), Card(Yellow 4), Card(Blue 13), Card(Yellow 4), Card(Blue 12), Card(Green 11), Card(Red 12), Card(Yellow 8), Card(Green 8), Card(Yellow 6), Card(Yellow 5), Card(Green 10), Card(Blue 10), Card(Blue 12), Card(Green 9), Card(Blue 10), Card(Green 3), Card(Red 10), Card(Yellow 13), Card(Red 8), Card(Red 6), Card(Red 11), Card(Green 4), Card(Yellow 2), Card(Blue 8), Card(Green 3), Card(Green 10), Card(Green 9), Card(Green 1), Card(Green 5), Card(Blue 5), Card(Green 11), Card(Green 7), Card(Red 1), Card(Yellow 7), Card(Yellow 1), Card(Red 11), Card(Red 12), Card(Green 5), Card(Blue 6), Card(Yellow 8), Card(Red 1), Card(Yellow 3), Card(Blue 13), Card(Green 7), Card(Blue 11), Card(Blue 7), Card(Yellow 11), Card(Green 12), Card(Yellow 1), Card(Red 13)]\n",
      "[player1, player2, player3, player4]\n",
      "player1 hands:[]\n",
      "player1 hands:[Card(Red 13), Card(Yellow 1), Card(Green 12), Card(Yellow 11), Card(Blue 7), Card(Blue 11), Card(Green 7), Card(Blue 13), Card(Yellow 3), Card(Red 1), Card(Yellow 8), Card(Blue 6), Card(Green 5), Card(Red 12)]\n",
      "player1 holds cards number: 14\n",
      "player2 hands:[]\n",
      "player2 hands:[Card(Red 11), Card(Yellow 1), Card(Yellow 7), Card(Red 1), Card(Green 7), Card(Green 11), Card(Blue 5), Card(Green 5), Card(Green 1), Card(Green 9), Card(Green 10), Card(Green 3), Card(Blue 8), Card(Yellow 2)]\n",
      "player2 holds cards number: 14\n",
      "player3 hands:[]\n",
      "player3 hands:[Card(Green 4), Card(Red 11), Card(Red 6), Card(Red 8), Card(Yellow 13), Card(Red 10), Card(Green 3), Card(Blue 10), Card(Green 9), Card(Blue 12), Card(Blue 10), Card(Green 10), Card(Yellow 5), Card(Yellow 6)]\n",
      "player3 holds cards number: 14\n",
      "player4 hands:[]\n",
      "player4 hands:[Card(Green 8), Card(Yellow 8), Card(Red 12), Card(Green 11), Card(Blue 12), Card(Yellow 4), Card(Blue 13), Card(Yellow 4), Card(Green 2), Card(Green 1), Card(Yellow 7), Card(Yellow 11), Card(Yellow 10), Card(Red 10)]\n",
      "player4 holds cards number: 14\n",
      "50\n"
     ]
    }
   ],
   "source": [
    "game = Game()\n",
    "\n",
    "deck1 = game.deck\n",
    "print(len(deck1.cards_pool))\n",
    "print(deck1.cards_pool)\n",
    "\n",
    "p1 = Player('player1')\n",
    "p2 = Player('player2')\n",
    "p3 = Player('player3')\n",
    "p4 = Player('player4')\n",
    "players = [p1, p2, p3, p4]\n",
    "print(players)      \n",
    "for player in players:\n",
    "    print(f\"{player} hands:{player.hands}\")\n",
    "    player.draw_cards(deck1)\n",
    "    print(f\"{player} hands:{player.hands}\")\n",
    "    print(f\"{player} holds cards number: {len(player.hands)}\")\n",
    "    \n",
    "print(len(deck1.cards_pool))"
   ]
  },
  {
   "cell_type": "code",
   "execution_count": 57,
   "metadata": {},
   "outputs": [
    {
     "data": {
      "text/plain": [
       "[Card(Red 1),\n",
       " Card(Yellow 1),\n",
       " Card(Yellow 3),\n",
       " Card(Green 5),\n",
       " Card(Blue 6),\n",
       " Card(Blue 7),\n",
       " Card(Green 7),\n",
       " Card(Yellow 8),\n",
       " Card(Blue 11),\n",
       " Card(Yellow 11),\n",
       " Card(Green 12),\n",
       " Card(Red 12),\n",
       " Card(Blue 13),\n",
       " Card(Red 13)]"
      ]
     },
     "execution_count": 57,
     "metadata": {},
     "output_type": "execute_result"
    }
   ],
   "source": [
    "p1.hands.sort(key=lambda tile: (tile.number, tile.colour))\n",
    "p1.hands"
   ]
  },
  {
   "cell_type": "code",
   "execution_count": 46,
   "metadata": {},
   "outputs": [
    {
     "name": "stdout",
     "output_type": "stream",
     "text": [
      "move success\n"
     ]
    },
    {
     "data": {
      "text/plain": [
       "[[Card(Yellow 10), Card(Yellow 11), Card(Joker 30)]]"
      ]
     },
     "execution_count": 46,
     "metadata": {},
     "output_type": "execute_result"
    }
   ],
   "source": [
    "game = Game()\n",
    "game.first_move(p1, [[p1.hands[9], p1.hands[11], p1.hands[13]], ])\n",
    "game.board"
   ]
  },
  {
   "cell_type": "code",
   "execution_count": 47,
   "metadata": {},
   "outputs": [
    {
     "data": {
      "text/plain": [
       "[Card(Green 1),\n",
       " Card(Blue 2),\n",
       " Card(Green 2),\n",
       " Card(Red 3),\n",
       " Card(Green 5),\n",
       " Card(Blue 6),\n",
       " Card(Red 7),\n",
       " Card(Green 9),\n",
       " Card(Red 10),\n",
       " Card(Green 11),\n",
       " Card(Red 13)]"
      ]
     },
     "execution_count": 47,
     "metadata": {},
     "output_type": "execute_result"
    }
   ],
   "source": [
    "p1.hands"
   ]
  },
  {
   "cell_type": "code",
   "execution_count": 48,
   "metadata": {},
   "outputs": [
    {
     "data": {
      "text/plain": [
       "[[Card(Yellow 10), Card(Yellow 11), Card(Joker 30)]]"
      ]
     },
     "execution_count": 48,
     "metadata": {},
     "output_type": "execute_result"
    }
   ],
   "source": [
    "game.board"
   ]
  },
  {
   "cell_type": "code",
   "execution_count": null,
   "metadata": {},
   "outputs": [],
   "source": []
  }
 ],
 "metadata": {
  "kernelspec": {
   "display_name": "MLE",
   "language": "python",
   "name": "python3"
  },
  "language_info": {
   "codemirror_mode": {
    "name": "ipython",
    "version": 3
   },
   "file_extension": ".py",
   "mimetype": "text/x-python",
   "name": "python",
   "nbconvert_exporter": "python",
   "pygments_lexer": "ipython3",
   "version": "3.10.13"
  }
 },
 "nbformat": 4,
 "nbformat_minor": 2
}
